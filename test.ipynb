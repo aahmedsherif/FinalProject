{
 "cells": [
  {
   "cell_type": "code",
   "execution_count": 5,
   "metadata": {},
   "outputs": [],
   "source": [
    "from utils import process_new\n",
    "import numpy as np\n"
   ]
  },
  {
   "cell_type": "code",
   "execution_count": 9,
   "metadata": {},
   "outputs": [
    {
     "name": "stdout",
     "output_type": "stream",
     "text": [
      "Unexpected exception formatting exception. Falling back to standard exception\n"
     ]
    },
    {
     "name": "stderr",
     "output_type": "stream",
     "text": [
      "Traceback (most recent call last):\n",
      "  File \"c:\\Users\\eahme\\.conda\\envs\\FinalProject\\lib\\site-packages\\IPython\\core\\interactiveshell.py\", line 3526, in run_code\n",
      "    exec(code_obj, self.user_global_ns, self.user_ns)\n",
      "  File \"C:\\Users\\eahme\\AppData\\Local\\Temp\\ipykernel_5536\\247764779.py\", line 6, in <module>\n",
      "    process_new(new_data)\n",
      "  File \"d:\\Content\\Epsilon\\MidProject\\FinalProject\\utils.py\", line 302, in process_new\n",
      "  File \"C:\\Users\\eahme\\AppData\\Roaming\\Python\\Python310\\site-packages\\sklearn\\pipeline.py\", line 696, in transform\n",
      "    Xt = transform.transform(Xt)\n",
      "  File \"C:\\Users\\eahme\\AppData\\Roaming\\Python\\Python310\\site-packages\\sklearn\\utils\\_set_output.py\", line 157, in wrapped\n",
      "    data_to_wrap = f(self, X, *args, **kwargs)\n",
      "  File \"C:\\Users\\eahme\\AppData\\Roaming\\Python\\Python310\\site-packages\\sklearn\\pipeline.py\", line 1319, in transform\n",
      "    Xs = Parallel(n_jobs=self.n_jobs)(\n",
      "  File \"C:\\Users\\eahme\\AppData\\Roaming\\Python\\Python310\\site-packages\\sklearn\\utils\\parallel.py\", line 65, in __call__\n",
      "    return super().__call__(iterable_with_config)\n",
      "  File \"c:\\Users\\eahme\\.conda\\envs\\FinalProject\\lib\\site-packages\\joblib\\parallel.py\", line 1863, in __call__\n",
      "    return output if self.return_generator else list(output)\n",
      "  File \"c:\\Users\\eahme\\.conda\\envs\\FinalProject\\lib\\site-packages\\joblib\\parallel.py\", line 1792, in _get_sequential_output\n",
      "    res = func(*args, **kwargs)\n",
      "  File \"C:\\Users\\eahme\\AppData\\Roaming\\Python\\Python310\\site-packages\\sklearn\\utils\\parallel.py\", line 127, in __call__\n",
      "    return self.function(*args, **kwargs)\n",
      "  File \"C:\\Users\\eahme\\AppData\\Roaming\\Python\\Python310\\site-packages\\sklearn\\pipeline.py\", line 940, in _transform_one\n",
      "    res = transformer.transform(X)\n",
      "  File \"C:\\Users\\eahme\\AppData\\Roaming\\Python\\Python310\\site-packages\\sklearn\\pipeline.py\", line 696, in transform\n",
      "    Xt = transform.transform(Xt)\n",
      "  File \"C:\\Users\\eahme\\AppData\\Roaming\\Python\\Python310\\site-packages\\sklearn\\utils\\_set_output.py\", line 157, in wrapped\n",
      "    data_to_wrap = f(self, X, *args, **kwargs)\n",
      "  File \"c:\\Users\\eahme\\.conda\\envs\\FinalProject\\lib\\site-packages\\sklearn_features\\transformers.py\", line 48, in transform\n",
      "    return df[self._key]\n",
      "TypeError: list indices must be integers or slices, not list\n",
      "\n",
      "During handling of the above exception, another exception occurred:\n",
      "\n",
      "Traceback (most recent call last):\n",
      "  File \"c:\\Users\\eahme\\.conda\\envs\\FinalProject\\lib\\site-packages\\IPython\\core\\interactiveshell.py\", line 2120, in showtraceback\n",
      "    stb = self.InteractiveTB.structured_traceback(\n",
      "  File \"c:\\Users\\eahme\\.conda\\envs\\FinalProject\\lib\\site-packages\\IPython\\core\\ultratb.py\", line 1435, in structured_traceback\n",
      "    return FormattedTB.structured_traceback(\n",
      "  File \"c:\\Users\\eahme\\.conda\\envs\\FinalProject\\lib\\site-packages\\IPython\\core\\ultratb.py\", line 1326, in structured_traceback\n",
      "    return VerboseTB.structured_traceback(\n",
      "  File \"c:\\Users\\eahme\\.conda\\envs\\FinalProject\\lib\\site-packages\\IPython\\core\\ultratb.py\", line 1173, in structured_traceback\n",
      "    formatted_exception = self.format_exception_as_a_whole(etype, evalue, etb, number_of_lines_of_context,\n",
      "  File \"c:\\Users\\eahme\\.conda\\envs\\FinalProject\\lib\\site-packages\\IPython\\core\\ultratb.py\", line 1088, in format_exception_as_a_whole\n",
      "    frames.append(self.format_record(record))\n",
      "  File \"c:\\Users\\eahme\\.conda\\envs\\FinalProject\\lib\\site-packages\\IPython\\core\\ultratb.py\", line 970, in format_record\n",
      "    frame_info.lines, Colors, self.has_colors, lvals\n",
      "  File \"c:\\Users\\eahme\\.conda\\envs\\FinalProject\\lib\\site-packages\\IPython\\core\\ultratb.py\", line 792, in lines\n",
      "    return self._sd.lines\n",
      "  File \"c:\\Users\\eahme\\.conda\\envs\\FinalProject\\lib\\site-packages\\stack_data\\utils.py\", line 145, in cached_property_wrapper\n",
      "    value = obj.__dict__[self.func.__name__] = self.func(obj)\n",
      "  File \"c:\\Users\\eahme\\.conda\\envs\\FinalProject\\lib\\site-packages\\stack_data\\core.py\", line 698, in lines\n",
      "    pieces = self.included_pieces\n",
      "  File \"c:\\Users\\eahme\\.conda\\envs\\FinalProject\\lib\\site-packages\\stack_data\\utils.py\", line 145, in cached_property_wrapper\n",
      "    value = obj.__dict__[self.func.__name__] = self.func(obj)\n",
      "  File \"c:\\Users\\eahme\\.conda\\envs\\FinalProject\\lib\\site-packages\\stack_data\\core.py\", line 649, in included_pieces\n",
      "    pos = scope_pieces.index(self.executing_piece)\n",
      "  File \"c:\\Users\\eahme\\.conda\\envs\\FinalProject\\lib\\site-packages\\stack_data\\utils.py\", line 145, in cached_property_wrapper\n",
      "    value = obj.__dict__[self.func.__name__] = self.func(obj)\n",
      "  File \"c:\\Users\\eahme\\.conda\\envs\\FinalProject\\lib\\site-packages\\stack_data\\core.py\", line 628, in executing_piece\n",
      "    return only(\n",
      "  File \"c:\\Users\\eahme\\.conda\\envs\\FinalProject\\lib\\site-packages\\executing\\executing.py\", line 164, in only\n",
      "    raise NotOneValueFound('Expected one value, found 0')\n",
      "executing.executing.NotOneValueFound: Expected one value, found 0\n"
     ]
    }
   ],
   "source": [
    "new_data = [3,2,860,True,False,'Pangsapuri Jati Selatan', np.nan, 'Leasehold', np.nan, np.nan, np.nan, 'Apartment', 1, 'Medium', 'Non Bumi Lot', 'E', 30425,\n",
    "            np.nan, True, False, False, False, True, False, True, True, False, False, False, False, False, True, False, False, False, False, False, False, np.nan,\n",
    "              'Kuala Lumpur' , np.nan]\n",
    "\n",
    "len(new_data)\n",
    "process_new(new_data)"
   ]
  }
 ],
 "metadata": {
  "kernelspec": {
   "display_name": "FinalProject",
   "language": "python",
   "name": "python3"
  },
  "language_info": {
   "codemirror_mode": {
    "name": "ipython",
    "version": 3
   },
   "file_extension": ".py",
   "mimetype": "text/x-python",
   "name": "python",
   "nbconvert_exporter": "python",
   "pygments_lexer": "ipython3",
   "version": "3.10.9"
  }
 },
 "nbformat": 4,
 "nbformat_minor": 2
}
