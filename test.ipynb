{
 "cells": [
  {
   "cell_type": "code",
   "execution_count": 1,
   "metadata": {},
   "outputs": [
    {
     "name": "stdout",
     "output_type": "stream",
     "text": [
      "Index(['bedroom', 'bathroom', 'property_size', 'nearby_school', 'nearby_mall',\n",
      "       'building_name', 'developer', 'tenure_type', 'completion_year',\n",
      "       'number_of_floors', 'total_units', 'property_type', 'parking_lot',\n",
      "       'floor_range', 'land_title', 'firm_type', 'firm_number', 'ren_number',\n",
      "       'nearby_railway_station', 'nearby_highway', 'nearby_hospital',\n",
      "       'nearby_mall2', 'nearby_bus_stop', 'nearby_park', 'facility_Parking',\n",
      "       'facility_Security', 'facility_Swimming Pool', 'facility_Playground',\n",
      "       'facility_Barbeque area', 'facility_Jogging Track', 'facility_Minimart',\n",
      "       'facility_Lift', 'facility_Gymnasium', 'facility_Multipurpose hall',\n",
      "       'facility_Sauna', 'facility_Tennis Court', 'facility_Club house',\n",
      "       'facility_Squash Court', 'ren_type', 'state', 'city'],\n",
      "      dtype='object')\n",
      "**********\n"
     ]
    }
   ],
   "source": [
    "from utils import process_new\n",
    "import numpy as np\n"
   ]
  },
  {
   "cell_type": "code",
   "execution_count": 2,
   "metadata": {},
   "outputs": [
    {
     "data": {
      "text/plain": [
       "array([[ 0.        ,  0.        ,  0.        ,  0.        ,  0.        ,\n",
       "         0.        ,  0.        , -0.12030075,  0.        ,  0.        ,\n",
       "        -1.        , -1.        ,  0.        ,  0.        ,  0.        ,\n",
       "         0.        ,  0.        ,  0.        ,  0.        ,  0.        ,\n",
       "        -1.        ,  1.        ,  1.        ,  0.        ,  0.        ,\n",
       "         0.        ,  0.        ,  0.        ,  0.        ,  1.        ,\n",
       "         0.        ,  0.        ,  0.        , -0.84210526,  0.07132417,\n",
       "         0.        ]])"
      ]
     },
     "execution_count": 2,
     "metadata": {},
     "output_type": "execute_result"
    }
   ],
   "source": [
    "new_data = [3,2,860,True,False,'Pangsapuri Jati Selatan', np.nan, 'Leasehold', np.nan, np.nan, np.nan, 'Apartment', 1, 'Medium', 'Non Bumi Lot', 'E', 30425,\n",
    "            np.nan, True, False, False, False, True, False, True, True, False, False, False, False, False, True, False, False, False, False, False, False, np.nan,\n",
    "              'Kuala Lumpur' , np.nan]\n",
    "\n",
    "len(new_data)\n",
    "process_new(new_data)"
   ]
  }
 ],
 "metadata": {
  "kernelspec": {
   "display_name": "FinalProject",
   "language": "python",
   "name": "python3"
  },
  "language_info": {
   "codemirror_mode": {
    "name": "ipython",
    "version": 3
   },
   "file_extension": ".py",
   "mimetype": "text/x-python",
   "name": "python",
   "nbconvert_exporter": "python",
   "pygments_lexer": "ipython3",
   "version": "3.10.9"
  }
 },
 "nbformat": 4,
 "nbformat_minor": 2
}
